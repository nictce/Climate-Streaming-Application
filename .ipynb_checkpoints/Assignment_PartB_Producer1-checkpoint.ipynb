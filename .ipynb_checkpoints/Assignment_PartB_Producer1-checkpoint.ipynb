{
 "cells": [
  {
   "cell_type": "code",
   "execution_count": 1,
   "metadata": {},
   "outputs": [],
   "source": [
    "from time import sleep\n",
    "from json import dumps\n",
    "from kafka import KafkaProducer\n",
    "import random\n",
    "import pandas as pd\n",
    "import pymongo\n",
    "from pprint import pprint\n",
    "import datetime as dt"
   ]
  },
  {
   "cell_type": "code",
   "execution_count": 2,
   "metadata": {},
   "outputs": [],
   "source": [
    "def publish(producer, topic, data):\n",
    "    try:\n",
    "        byte_data = bytes(data, encoding = 'utf-8')\n",
    "        producer.send(topic, value = byte_data)\n",
    "#         producer.flush()\n",
    "        print('Message sent successfully!')\n",
    "    except Exception as e:\n",
    "        print(f'Exception occured while publishing message: {str(e)}')\n",
    "\n",
    "def connect_kafka_producer():\n",
    "    producer = None\n",
    "    try:\n",
    "        producer = KafkaProducer(bootstrap_servers=['127.0.0.1:9092'], api_version=(0, 10))\n",
    "    except Exception as e:\n",
    "        print(f'Exception occured while connecting to Kafka: {str(e)}')\n",
    "    finally:\n",
    "        return producer\n"
   ]
  },
  {
   "cell_type": "code",
   "execution_count": 3,
   "metadata": {},
   "outputs": [],
   "source": [
    "def find_latest_date():\n",
    "    client = pymongo.MongoClient()\n",
    "    collection = client.fit_3182_assignment_db.historic\n",
    "\n",
    "    res = collection.find().sort('date', -1).limit(1)\n",
    "    latest_date = next(res, None)['date']\n",
    "#     if latest_date:\n",
    "#         pprint(latest_date)\n",
    "    return latest_date\n",
    "\n",
    "def climate_csv_to_dict():\n",
    "    climate_df = pd.read_csv('climate_streaming.csv')\n",
    "    climate_streaming = []\n",
    "\n",
    "    for _, row in climate_df.iterrows():\n",
    "        doc = {}\n",
    "        doc['latitude'] = float(row['latitude'])\n",
    "        doc['longitude'] = float(row['longitude'])\n",
    "        doc['air_temperature_celcius'] = float(row['air_temperature_celcius'])\n",
    "        doc['relative_humidity'] = float(row['relative_humidity'])\n",
    "        doc['windspeed_knots'] = float(row['windspeed_knots'])\n",
    "        doc['max_wind_speed'] = float(row['max_wind_speed'])\n",
    "        doc['precipitation'] = float(row['precipitation '][:-1])\n",
    "        doc['precipitation_flag'] = row['precipitation '][-1]\n",
    "        doc['GHI_w/m2'] = float(row['GHI_w/m2'])\n",
    "\n",
    "        climate_streaming.append(doc)\n",
    "    \n",
    "    return climate_streaming\n",
    "    "
   ]
  },
  {
   "cell_type": "code",
   "execution_count": null,
   "metadata": {},
   "outputs": [
    {
     "name": "stdout",
     "output_type": "stream",
     "text": [
      "Publishing records..\n",
      "Message sent successfully!\n",
      "Message sent successfully!\n",
      "Message sent successfully!\n",
      "Message sent successfully!\n",
      "Message sent successfully!\n",
      "Message sent successfully!\n",
      "Message sent successfully!\n",
      "Message sent successfully!\n",
      "Message sent successfully!\n",
      "Message sent successfully!\n",
      "Message sent successfully!\n",
      "Message sent successfully!\n",
      "Message sent successfully!\n",
      "Message sent successfully!\n",
      "Message sent successfully!\n",
      "Message sent successfully!\n",
      "Message sent successfully!\n",
      "Message sent successfully!\n",
      "Message sent successfully!\n",
      "Message sent successfully!\n",
      "Message sent successfully!\n",
      "Message sent successfully!\n"
     ]
    }
   ],
   "source": [
    "if __name__ == '__main__':\n",
    "\n",
    "    latest_date = find_latest_date()\n",
    "    climate_streaming = climate_csv_to_dict()\n",
    "    nrows = len(climate_streaming)\n",
    "\n",
    "    topic = 'Climate'\n",
    "    print('Publishing records..')\n",
    "    climate_producer = connect_kafka_producer()\n",
    "\n",
    "    while True:\n",
    "        latest_date += dt.timedelta(days = 1)\n",
    "        randrow = climate_streaming[random.randrange(nrows)]\n",
    "        randrow['date'] = str(latest_date)#.strftime('%d/%m/%Y')\n",
    "        randrow['station'] = 'climate_producer'\n",
    "        publish(climate_producer, topic, dumps(randrow))\n",
    "        sleep(10)"
   ]
  },
  {
   "cell_type": "code",
   "execution_count": null,
   "metadata": {},
   "outputs": [],
   "source": []
  }
 ],
 "metadata": {
  "kernelspec": {
   "display_name": "Python 3",
   "language": "python",
   "name": "python3"
  },
  "language_info": {
   "codemirror_mode": {
    "name": "ipython",
    "version": 3
   },
   "file_extension": ".py",
   "mimetype": "text/x-python",
   "name": "python",
   "nbconvert_exporter": "python",
   "pygments_lexer": "ipython3",
   "version": "3.8.10"
  }
 },
 "nbformat": 4,
 "nbformat_minor": 4
}
