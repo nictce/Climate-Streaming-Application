{
 "cells": [
  {
   "cell_type": "code",
   "execution_count": null,
   "metadata": {},
   "outputs": [],
   "source": [
    "from pymongo import MongoClient\n",
    "from pyspark.sql import SparkSession\n",
    "from pyspark.sql.functions import *#, col, split, element_at, when, to_json, transform\n",
    "from pyspark.sql.types import * #StructType #StringType\n",
    "from pyspark.sql.types import *\n",
    "from json import loads"
   ]
  },
  {
   "cell_type": "code",
   "execution_count": null,
   "metadata": {},
   "outputs": [],
   "source": [
    "spark = (\n",
    "    SparkSession.builder\n",
    "    .master('local[*]')\n",
    "    .appName('Streaming Application')\n",
    "    .getOrCreate()\n",
    ")"
   ]
  },
  {
   "cell_type": "code",
   "execution_count": null,
   "metadata": {},
   "outputs": [],
   "source": [
    "df = (\n",
    "    spark.readStream.format('kafka') # specify source\n",
    "    .option('kafka.bootstrap.servers', 'localhost:9092')\n",
    "    .option('subscribe', 'Climate, Aqua, Terra')\n",
    "    .load() # creates streaming dataframe\n",
    ")"
   ]
  },
  {
   "cell_type": "code",
   "execution_count": null,
   "metadata": {},
   "outputs": [],
   "source": [
    "df.printSchema()"
   ]
  },
  {
   "cell_type": "code",
   "execution_count": null,
   "metadata": {},
   "outputs": [],
   "source": [
    "schema = (\n",
    "    StructType()\n",
    "    .add('latitude', FloatType())\n",
    "    .add('longitude', FloatType())\n",
    "    .add('air_temperature_celcius', FloatType())\n",
    "    .add('relative_humidity', FloatType())\n",
    "    .add('windspeed_knots', FloatType())\n",
    "    .add('max_wind_speed', FloatType())\n",
    "    .add('precipitation', FloatType())\n",
    "    .add('precipitation_flag', StringType())\n",
    "    .add('GHI_w/m2', FloatType())\n",
    "    .add('date', StringType())\n",
    "    .add('station', StringType())\n",
    "    .add('confidence', FloatType())\n",
    "    .add('surface_temperature_celcius', FloatType()))\n",
    "\n",
    "df2 = (df\n",
    "       .selectExpr('CAST(value AS STRING)')\n",
    "       .select(from_json('value', schema).alias('temp'))\n",
    "       .select('temp.*'))\n",
    "\n",
    "# query = df2.writeStream.format('console').option('truncate', 'False').trigger(processingTime='10 seconds').start()"
   ]
  },
  {
   "cell_type": "code",
   "execution_count": null,
   "metadata": {},
   "outputs": [],
   "source": [
    "df2.printSchema()"
   ]
  },
  {
   "cell_type": "code",
   "execution_count": null,
   "metadata": {},
   "outputs": [],
   "source": [
    "def process(df, epoch_id):\n",
    "    mongo_client = MongoClient(host='localhost', port=27017)\n",
    "    db = mongo_client.fit_3182_assignment_db\n",
    "    collection = db.test\n",
    "    collection.insert_one(df.asDict())\n",
    "    pprint.pprint(df)\n",
    "    mongo_client.close()"
   ]
  },
  {
   "cell_type": "code",
   "execution_count": null,
   "metadata": {},
   "outputs": [],
   "source": [
    "db_writer = (\n",
    "    df2\n",
    "    .writeStream\n",
    "    .outputMode('complete')\n",
    "#     .foreachBatch(DbWriter())\n",
    "    .foreachBatch(process)\n",
    "    .trigger(processingTime='10 seconds')\n",
    ")"
   ]
  },
  {
   "cell_type": "code",
   "execution_count": null,
   "metadata": {},
   "outputs": [],
   "source": [
    "console_logger = (\n",
    "    df2\n",
    "    .writeStream\n",
    "    .outputMode('complete')\n",
    "#     .foreachBatch(process)\n",
    "    .format('console')\n",
    "    .trigger(processingTime='10 seconds')\n",
    ")"
   ]
  },
  {
   "cell_type": "code",
   "execution_count": null,
   "metadata": {},
   "outputs": [],
   "source": [
    "writer = console_logger\n",
    "# writer = db_writer"
   ]
  },
  {
   "cell_type": "code",
   "execution_count": null,
   "metadata": {},
   "outputs": [],
   "source": [
    "try:\n",
    "    query = writer.start()\n",
    "    query.awaitTermination()\n",
    "except KeyboardInterrupt:\n",
    "    print('Interrupted by CTRL-C. Stopped query')\n",
    "except StreamingQueryException as exc:\n",
    "    print(exc)\n",
    "finally:\n",
    "    query.stop()"
   ]
  },
  {
   "cell_type": "code",
   "execution_count": null,
   "metadata": {},
   "outputs": [],
   "source": []
  },
  {
   "cell_type": "code",
   "execution_count": null,
   "metadata": {},
   "outputs": [],
   "source": []
  },
  {
   "cell_type": "code",
   "execution_count": null,
   "metadata": {},
   "outputs": [],
   "source": []
  },
  {
   "cell_type": "code",
   "execution_count": null,
   "metadata": {},
   "outputs": [],
   "source": []
  },
  {
   "cell_type": "code",
   "execution_count": null,
   "metadata": {},
   "outputs": [],
   "source": [
    "import pprint\n",
    "\n",
    "def process(df, epoch_id):\n",
    "    mongo_client = MongoClient(\n",
    "        host='localhost',\n",
    "        port=27017\n",
    "    )\n",
    "    db = mongo_client.fit_3182_assignment_db\n",
    "    collection = db.test\n",
    "    collection.insert_one(df.asDict())\n",
    "    pprint.pprint(df)\n",
    "    mongo_client.close()\n",
    "    \n",
    "db_writer = (\n",
    "    df2\n",
    "    .writeStream\n",
    "    .outputMode('complete')\n",
    "#     .foreachBatch(DbWriter())\n",
    "    .foreachBatch(process)\n",
    "    .trigger(processingTime='10 seconds')\n",
    ")\n",
    "\n",
    "console_logger = (\n",
    "    df2\n",
    "    .writeStream\n",
    "    .outputMode('append')\n",
    "#     .foreachBatch(pprint.pprint)\n",
    "    .format('console')\n",
    "    .trigger(processingTime='10 seconds')\n",
    ")\n",
    "\n",
    "writer = console_logger\n",
    "# writer = db_writer\n",
    "\n",
    "try:\n",
    "    query = writer.start()\n",
    "    query.awaitTermination()\n",
    "except KeyboardInterrupt:\n",
    "    print('Interrupted by CTRL-C. Stopped query')\n",
    "except StreamingQueryException as exc:\n",
    "    print(exc)\n",
    "finally:\n",
    "    query.stop()"
   ]
  },
  {
   "cell_type": "code",
   "execution_count": null,
   "metadata": {
    "scrolled": true
   },
   "outputs": [],
   "source": [
    "df_old = (\n",
    "    df.select(\n",
    "        df.value.cast('string')\n",
    "        .alias('data')\n",
    "    )\n",
    "    .withColumn(\n",
    "        'data', (\n",
    "            when( col('data') == '', '*')\n",
    "            .otherwise(col('data'))\n",
    "        )\n",
    "    )\n",
    ")"
   ]
  },
  {
   "cell_type": "code",
   "execution_count": null,
   "metadata": {},
   "outputs": [],
   "source": [
    "df2 = (df.select(\n",
    "           split(df.key.cast('string'), '_')\n",
    "           .alias('producer'), df.value.cast('string').alias('temp')\n",
    "       ).select(\n",
    "           'producer', 'temp.*'\n",
    "       ).withColumn('seq', element_at('producer', 2)).withColumn('producer', element_at('producer', 1))\n",
    "      )"
   ]
  }
 ],
 "metadata": {
  "kernelspec": {
   "display_name": "Python 3",
   "language": "python",
   "name": "python3"
  },
  "language_info": {
   "codemirror_mode": {
    "name": "ipython",
    "version": 3
   },
   "file_extension": ".py",
   "mimetype": "text/x-python",
   "name": "python",
   "nbconvert_exporter": "python",
   "pygments_lexer": "ipython3",
   "version": "3.8.10"
  }
 },
 "nbformat": 4,
 "nbformat_minor": 4
}
