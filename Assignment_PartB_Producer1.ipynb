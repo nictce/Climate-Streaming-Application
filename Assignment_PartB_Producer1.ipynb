{
 "cells": [
  {
   "cell_type": "markdown",
   "metadata": {},
   "source": [
    "# FIT3182 Assignment Part B\n",
    "\n",
    "- Name: Tan Chong Ern\n",
    "- Student ID: 31435661\n",
    "- Email: ctan0119@student.monash.edu\n",
    "---\n",
    "\n",
    "## Task 1. Processing Data Stream\n",
    "\n",
    "### *a. Event Producer 1* \n",
    "*Write a python program that loads all the data from climate_streaming.csv and randomly (with replacement) feed the data to the stream every 10 seconds. You will need to append additional information such as producer information to identify the producer and created date.*"
   ]
  },
  {
   "cell_type": "code",
   "execution_count": 1,
   "metadata": {
    "scrolled": true
   },
   "outputs": [
    {
     "name": "stdout",
     "output_type": "stream",
     "text": [
      "Publishing records..\n",
      "Message sent successfully!\n",
      "Message sent successfully!\n",
      "Message sent successfully!\n",
      "Message sent successfully!\n",
      "Message sent successfully!\n",
      "Message sent successfully!\n",
      "Message sent successfully!\n",
      "Message sent successfully!\n",
      "Message sent successfully!\n",
      "Message sent successfully!\n",
      "Message sent successfully!\n",
      "Message sent successfully!\n",
      "Message sent successfully!\n",
      "Message sent successfully!\n"
     ]
    },
    {
     "ename": "KeyboardInterrupt",
     "evalue": "",
     "output_type": "error",
     "traceback": [
      "\u001b[0;31m---------------------------------------------------------------------------\u001b[0m",
      "\u001b[0;31mKeyboardInterrupt\u001b[0m                         Traceback (most recent call last)",
      "\u001b[0;32m<ipython-input-1-c5e35966acd6>\u001b[0m in \u001b[0;36m<module>\u001b[0;34m\u001b[0m\n\u001b[1;32m     64\u001b[0m         \u001b[0mrandrow\u001b[0m\u001b[0;34m[\u001b[0m\u001b[0;34m'date'\u001b[0m\u001b[0;34m]\u001b[0m \u001b[0;34m=\u001b[0m \u001b[0mstr\u001b[0m\u001b[0;34m(\u001b[0m\u001b[0mlatest_date\u001b[0m\u001b[0;34m)\u001b[0m\u001b[0;34m\u001b[0m\u001b[0;34m\u001b[0m\u001b[0m\n\u001b[1;32m     65\u001b[0m         \u001b[0mpublish\u001b[0m\u001b[0;34m(\u001b[0m\u001b[0mclimate_producer\u001b[0m\u001b[0;34m,\u001b[0m \u001b[0mtopic\u001b[0m\u001b[0;34m,\u001b[0m \u001b[0;34m'climate_producer'\u001b[0m\u001b[0;34m,\u001b[0m \u001b[0mdumps\u001b[0m\u001b[0;34m(\u001b[0m\u001b[0mrandrow\u001b[0m\u001b[0;34m)\u001b[0m\u001b[0;34m)\u001b[0m \u001b[0;31m# inserts producer information into the key\u001b[0m\u001b[0;34m\u001b[0m\u001b[0;34m\u001b[0m\u001b[0m\n\u001b[0;32m---> 66\u001b[0;31m         \u001b[0msleep\u001b[0m\u001b[0;34m(\u001b[0m\u001b[0;36m10\u001b[0m\u001b[0;34m)\u001b[0m\u001b[0;34m\u001b[0m\u001b[0;34m\u001b[0m\u001b[0m\n\u001b[0m",
      "\u001b[0;31mKeyboardInterrupt\u001b[0m: "
     ]
    }
   ],
   "source": [
    "from kafka import KafkaProducer\n",
    "from time import sleep\n",
    "from json import dumps\n",
    "import pandas as pd\n",
    "import datetime as dt\n",
    "import random\n",
    "import pymongo\n",
    "\n",
    "\n",
    "def publish(producer, topic, key, data):\n",
    "    try:\n",
    "        # encode the key and data into bytes\n",
    "        byte_key = bytes(key, encoding = 'utf-8')\n",
    "        byte_data = bytes(data, encoding = 'utf-8')\n",
    "        producer.send(topic, key = byte_key, value = byte_data)\n",
    "        producer.flush()\n",
    "        print('Message sent successfully!')\n",
    "    except Exception as e:\n",
    "        print(f'Exception occured while publishing message: {str(e)}')\n",
    "\n",
    "def connect_kafka_producer():\n",
    "    producer = None\n",
    "    try:\n",
    "        producer = KafkaProducer(bootstrap_servers=['127.0.0.1:9092'], api_version=(0, 10))\n",
    "    except Exception as e:\n",
    "        print(f'Exception occured while connecting to Kafka: {str(e)}')\n",
    "    finally:\n",
    "        return producer\n",
    "    \n",
    "def find_latest_date():\n",
    "    # connect to the MongoDB client's historic collection\n",
    "    client = pymongo.MongoClient()\n",
    "    collection = client.fit_3182_assignment_db.historic\n",
    "\n",
    "    # sort by the most recent date and return the top (latest) date\n",
    "    res = collection.find().sort('date', -1).limit(1)\n",
    "    latest_date = next(res, None)['date']\n",
    "    return latest_date\n",
    "\n",
    "def climate_csv_to_dict():\n",
    "    # read the CSV file and convert it into a dictionary\n",
    "    climate_df = pd.read_csv('climate_streaming.csv').to_dict('records')\n",
    "    \n",
    "    # separate the original precipitation values into a float and the precipitation flag/indicator\n",
    "    for climate in climate_df:\n",
    "        precipitation = climate.pop('precipitation ')\n",
    "        climate['precipitation'] = float(precipitation[:-1])\n",
    "        climate['precipitation_flag'] = precipitation[-1]\n",
    "\n",
    "    return climate_df\n",
    "\n",
    "\n",
    "if __name__ == '__main__':\n",
    "\n",
    "    topic = 'climate_producer'\n",
    "    climate_producer = connect_kafka_producer()\n",
    "    latest_date = find_latest_date()\n",
    "    climate_streaming = climate_csv_to_dict()\n",
    "\n",
    "    print('Publishing records..')\n",
    "    while True:\n",
    "        latest_date += dt.timedelta(days = 1)\n",
    "        randrow = climate_streaming[random.randrange(len(climate_streaming))]\n",
    "        randrow['date'] = str(latest_date)\n",
    "        publish(climate_producer, topic, 'climate_producer', dumps(randrow)) # inserts producer information into the key\n",
    "        sleep(10)"
   ]
  }
 ],
 "metadata": {
  "kernelspec": {
   "display_name": "Python 3",
   "language": "python",
   "name": "python3"
  },
  "language_info": {
   "codemirror_mode": {
    "name": "ipython",
    "version": 3
   },
   "file_extension": ".py",
   "mimetype": "text/x-python",
   "name": "python",
   "nbconvert_exporter": "python",
   "pygments_lexer": "ipython3",
   "version": "3.8.10"
  }
 },
 "nbformat": 4,
 "nbformat_minor": 4
}
